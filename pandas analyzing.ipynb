{
 "cells": [
  {
   "cell_type": "code",
   "execution_count": 62,
   "id": "a8e1bb40",
   "metadata": {},
   "outputs": [
    {
     "name": "stdout",
     "output_type": "stream",
     "text": [
      "         DATE                MODEL  QUANTITY UNIT PRICE  SUB TOTAL  \\\n",
      "0    2/1/2025   HP CPUS i3/3RD GEN       6.0       4000      24000   \n",
      "1    2/1/2025   HP CPUS i3/4TH GEN      10.0       4500      45000   \n",
      "2    2/1/2025    HP CPUS CELERON 4       3.0       4000      12000   \n",
      "3    2/1/2025      HP CPUS PENTIUM       1.0       4000       4000   \n",
      "4    2/1/2025       HP CPUS I5/2ND       1.0       4500       4500   \n",
      "..        ...                  ...       ...        ...        ...   \n",
      "73  27/1/2025        IYAMA MONITOR       5.0       2500      12500   \n",
      "74  27/1/2025       DELL KEYBOARDS       9.0        200       1800   \n",
      "75  30/1/2025  HP CPU S i5/6 8/500       2.0       8500      17000   \n",
      "76  31/1/2025           LENOVO 11e       5.0       6000      30000   \n",
      "77        NaN                  NaN       NaN      TOTAL    2761700   \n",
      "\n",
      "    Unnamed: 5  Unnamed: 6 Unnamed: 7  \n",
      "0          NaN         NaN        NaN  \n",
      "1          NaN         NaN        NaN  \n",
      "2          NaN         NaN        NaN  \n",
      "3          NaN         NaN        NaN  \n",
      "4          NaN         NaN        NaN  \n",
      "..         ...         ...        ...  \n",
      "73         NaN         NaN        NaN  \n",
      "74         NaN         NaN        NaN  \n",
      "75         NaN         NaN        NaN  \n",
      "76         NaN         NaN        NaN  \n",
      "77         NaN         NaN        NaN  \n",
      "\n",
      "[78 rows x 8 columns]\n"
     ]
    }
   ],
   "source": [
    "import pandas as pd\n",
    "df = pd.read_csv('Book.csv')\n",
    "print(df)\n"
   ]
  },
  {
   "cell_type": "code",
   "execution_count": 63,
   "id": "917f3170",
   "metadata": {},
   "outputs": [
    {
     "data": {
      "text/html": [
       "<div>\n",
       "<style scoped>\n",
       "    .dataframe tbody tr th:only-of-type {\n",
       "        vertical-align: middle;\n",
       "    }\n",
       "\n",
       "    .dataframe tbody tr th {\n",
       "        vertical-align: top;\n",
       "    }\n",
       "\n",
       "    .dataframe thead th {\n",
       "        text-align: right;\n",
       "    }\n",
       "</style>\n",
       "<table border=\"1\" class=\"dataframe\">\n",
       "  <thead>\n",
       "    <tr style=\"text-align: right;\">\n",
       "      <th></th>\n",
       "      <th>DATE</th>\n",
       "      <th>MODEL</th>\n",
       "      <th>QUANTITY</th>\n",
       "      <th>UNIT PRICE</th>\n",
       "      <th>SUB TOTAL</th>\n",
       "      <th>Unnamed: 5</th>\n",
       "      <th>Unnamed: 6</th>\n",
       "      <th>Unnamed: 7</th>\n",
       "    </tr>\n",
       "  </thead>\n",
       "  <tbody>\n",
       "    <tr>\n",
       "      <th>0</th>\n",
       "      <td>2/1/2025</td>\n",
       "      <td>HP CPUS i3/3RD GEN</td>\n",
       "      <td>6.0</td>\n",
       "      <td>4000</td>\n",
       "      <td>24000</td>\n",
       "      <td>NaN</td>\n",
       "      <td>NaN</td>\n",
       "      <td>NaN</td>\n",
       "    </tr>\n",
       "    <tr>\n",
       "      <th>1</th>\n",
       "      <td>2/1/2025</td>\n",
       "      <td>HP CPUS i3/4TH GEN</td>\n",
       "      <td>10.0</td>\n",
       "      <td>4500</td>\n",
       "      <td>45000</td>\n",
       "      <td>NaN</td>\n",
       "      <td>NaN</td>\n",
       "      <td>NaN</td>\n",
       "    </tr>\n",
       "    <tr>\n",
       "      <th>2</th>\n",
       "      <td>2/1/2025</td>\n",
       "      <td>HP CPUS CELERON 4</td>\n",
       "      <td>3.0</td>\n",
       "      <td>4000</td>\n",
       "      <td>12000</td>\n",
       "      <td>NaN</td>\n",
       "      <td>NaN</td>\n",
       "      <td>NaN</td>\n",
       "    </tr>\n",
       "    <tr>\n",
       "      <th>3</th>\n",
       "      <td>2/1/2025</td>\n",
       "      <td>HP CPUS PENTIUM</td>\n",
       "      <td>1.0</td>\n",
       "      <td>4000</td>\n",
       "      <td>4000</td>\n",
       "      <td>NaN</td>\n",
       "      <td>NaN</td>\n",
       "      <td>NaN</td>\n",
       "    </tr>\n",
       "    <tr>\n",
       "      <th>4</th>\n",
       "      <td>2/1/2025</td>\n",
       "      <td>HP CPUS I5/2ND</td>\n",
       "      <td>1.0</td>\n",
       "      <td>4500</td>\n",
       "      <td>4500</td>\n",
       "      <td>NaN</td>\n",
       "      <td>NaN</td>\n",
       "      <td>NaN</td>\n",
       "    </tr>\n",
       "    <tr>\n",
       "      <th>...</th>\n",
       "      <td>...</td>\n",
       "      <td>...</td>\n",
       "      <td>...</td>\n",
       "      <td>...</td>\n",
       "      <td>...</td>\n",
       "      <td>...</td>\n",
       "      <td>...</td>\n",
       "      <td>...</td>\n",
       "    </tr>\n",
       "    <tr>\n",
       "      <th>73</th>\n",
       "      <td>27/1/2025</td>\n",
       "      <td>IYAMA MONITOR</td>\n",
       "      <td>5.0</td>\n",
       "      <td>2500</td>\n",
       "      <td>12500</td>\n",
       "      <td>NaN</td>\n",
       "      <td>NaN</td>\n",
       "      <td>NaN</td>\n",
       "    </tr>\n",
       "    <tr>\n",
       "      <th>74</th>\n",
       "      <td>27/1/2025</td>\n",
       "      <td>DELL KEYBOARDS</td>\n",
       "      <td>9.0</td>\n",
       "      <td>200</td>\n",
       "      <td>1800</td>\n",
       "      <td>NaN</td>\n",
       "      <td>NaN</td>\n",
       "      <td>NaN</td>\n",
       "    </tr>\n",
       "    <tr>\n",
       "      <th>75</th>\n",
       "      <td>30/1/2025</td>\n",
       "      <td>HP CPU S i5/6 8/500</td>\n",
       "      <td>2.0</td>\n",
       "      <td>8500</td>\n",
       "      <td>17000</td>\n",
       "      <td>NaN</td>\n",
       "      <td>NaN</td>\n",
       "      <td>NaN</td>\n",
       "    </tr>\n",
       "    <tr>\n",
       "      <th>76</th>\n",
       "      <td>31/1/2025</td>\n",
       "      <td>LENOVO 11e</td>\n",
       "      <td>5.0</td>\n",
       "      <td>6000</td>\n",
       "      <td>30000</td>\n",
       "      <td>NaN</td>\n",
       "      <td>NaN</td>\n",
       "      <td>NaN</td>\n",
       "    </tr>\n",
       "    <tr>\n",
       "      <th>77</th>\n",
       "      <td>NaN</td>\n",
       "      <td>NaN</td>\n",
       "      <td>NaN</td>\n",
       "      <td>TOTAL</td>\n",
       "      <td>2761700</td>\n",
       "      <td>NaN</td>\n",
       "      <td>NaN</td>\n",
       "      <td>NaN</td>\n",
       "    </tr>\n",
       "  </tbody>\n",
       "</table>\n",
       "<p>78 rows × 8 columns</p>\n",
       "</div>"
      ],
      "text/plain": [
       "         DATE                MODEL  QUANTITY UNIT PRICE  SUB TOTAL  \\\n",
       "0    2/1/2025   HP CPUS i3/3RD GEN       6.0       4000      24000   \n",
       "1    2/1/2025   HP CPUS i3/4TH GEN      10.0       4500      45000   \n",
       "2    2/1/2025    HP CPUS CELERON 4       3.0       4000      12000   \n",
       "3    2/1/2025      HP CPUS PENTIUM       1.0       4000       4000   \n",
       "4    2/1/2025       HP CPUS I5/2ND       1.0       4500       4500   \n",
       "..        ...                  ...       ...        ...        ...   \n",
       "73  27/1/2025        IYAMA MONITOR       5.0       2500      12500   \n",
       "74  27/1/2025       DELL KEYBOARDS       9.0        200       1800   \n",
       "75  30/1/2025  HP CPU S i5/6 8/500       2.0       8500      17000   \n",
       "76  31/1/2025           LENOVO 11e       5.0       6000      30000   \n",
       "77        NaN                  NaN       NaN      TOTAL    2761700   \n",
       "\n",
       "    Unnamed: 5  Unnamed: 6 Unnamed: 7  \n",
       "0          NaN         NaN        NaN  \n",
       "1          NaN         NaN        NaN  \n",
       "2          NaN         NaN        NaN  \n",
       "3          NaN         NaN        NaN  \n",
       "4          NaN         NaN        NaN  \n",
       "..         ...         ...        ...  \n",
       "73         NaN         NaN        NaN  \n",
       "74         NaN         NaN        NaN  \n",
       "75         NaN         NaN        NaN  \n",
       "76         NaN         NaN        NaN  \n",
       "77         NaN         NaN        NaN  \n",
       "\n",
       "[78 rows x 8 columns]"
      ]
     },
     "execution_count": 63,
     "metadata": {},
     "output_type": "execute_result"
    }
   ],
   "source": [
    "df"
   ]
  },
  {
   "cell_type": "code",
   "execution_count": 64,
   "id": "269387ec",
   "metadata": {},
   "outputs": [
    {
     "name": "stdout",
     "output_type": "stream",
     "text": [
      "         DATE                MODEL  QUANTITY UNIT PRICE  SUB TOTAL Unnamed: 7\n",
      "0    2/1/2025   HP CPUS i3/3RD GEN       6.0       4000      24000        NaN\n",
      "1    2/1/2025   HP CPUS i3/4TH GEN      10.0       4500      45000        NaN\n",
      "2    2/1/2025    HP CPUS CELERON 4       3.0       4000      12000        NaN\n",
      "3    2/1/2025      HP CPUS PENTIUM       1.0       4000       4000        NaN\n",
      "4    2/1/2025       HP CPUS I5/2ND       1.0       4500       4500        NaN\n",
      "..        ...                  ...       ...        ...        ...        ...\n",
      "73  27/1/2025        IYAMA MONITOR       5.0       2500      12500        NaN\n",
      "74  27/1/2025       DELL KEYBOARDS       9.0        200       1800        NaN\n",
      "75  30/1/2025  HP CPU S i5/6 8/500       2.0       8500      17000        NaN\n",
      "76  31/1/2025           LENOVO 11e       5.0       6000      30000        NaN\n",
      "77        NaN                  NaN       NaN      TOTAL    2761700        NaN\n",
      "\n",
      "[78 rows x 6 columns]\n"
     ]
    }
   ],
   "source": [
    "#to drop all unnamed columns\n",
    "df = df.dropna(axis=1, how= 'all')\n",
    "print(df)"
   ]
  },
  {
   "cell_type": "code",
   "execution_count": 65,
   "id": "0f9ba6b4",
   "metadata": {},
   "outputs": [
    {
     "name": "stdout",
     "output_type": "stream",
     "text": [
      "<class 'pandas.core.frame.DataFrame'>\n",
      "RangeIndex: 78 entries, 0 to 77\n",
      "Data columns (total 6 columns):\n",
      " #   Column      Non-Null Count  Dtype  \n",
      "---  ------      --------------  -----  \n",
      " 0   DATE        77 non-null     object \n",
      " 1   MODEL       77 non-null     object \n",
      " 2   QUANTITY    77 non-null     float64\n",
      " 3   UNIT PRICE  78 non-null     object \n",
      " 4   SUB TOTAL   78 non-null     int64  \n",
      " 5   Unnamed: 7  1 non-null      object \n",
      "dtypes: float64(1), int64(1), object(4)\n",
      "memory usage: 3.8+ KB\n"
     ]
    }
   ],
   "source": [
    "df.info()"
   ]
  },
  {
   "cell_type": "code",
   "execution_count": 11,
   "id": "eb760eea",
   "metadata": {},
   "outputs": [
    {
     "data": {
      "text/html": [
       "<div>\n",
       "<style scoped>\n",
       "    .dataframe tbody tr th:only-of-type {\n",
       "        vertical-align: middle;\n",
       "    }\n",
       "\n",
       "    .dataframe tbody tr th {\n",
       "        vertical-align: top;\n",
       "    }\n",
       "\n",
       "    .dataframe thead th {\n",
       "        text-align: right;\n",
       "    }\n",
       "</style>\n",
       "<table border=\"1\" class=\"dataframe\">\n",
       "  <thead>\n",
       "    <tr style=\"text-align: right;\">\n",
       "      <th></th>\n",
       "      <th>QUANTITY</th>\n",
       "      <th>SUB TOTAL</th>\n",
       "    </tr>\n",
       "  </thead>\n",
       "  <tbody>\n",
       "    <tr>\n",
       "      <th>count</th>\n",
       "      <td>77.000000</td>\n",
       "      <td>7.800000e+01</td>\n",
       "    </tr>\n",
       "    <tr>\n",
       "      <th>mean</th>\n",
       "      <td>15.714286</td>\n",
       "      <td>7.081282e+04</td>\n",
       "    </tr>\n",
       "    <tr>\n",
       "      <th>std</th>\n",
       "      <td>56.999736</td>\n",
       "      <td>3.111201e+05</td>\n",
       "    </tr>\n",
       "    <tr>\n",
       "      <th>min</th>\n",
       "      <td>1.000000</td>\n",
       "      <td>1.800000e+03</td>\n",
       "    </tr>\n",
       "    <tr>\n",
       "      <th>25%</th>\n",
       "      <td>1.000000</td>\n",
       "      <td>1.125000e+04</td>\n",
       "    </tr>\n",
       "    <tr>\n",
       "      <th>50%</th>\n",
       "      <td>3.000000</td>\n",
       "      <td>2.400000e+04</td>\n",
       "    </tr>\n",
       "    <tr>\n",
       "      <th>75%</th>\n",
       "      <td>8.000000</td>\n",
       "      <td>4.362500e+04</td>\n",
       "    </tr>\n",
       "    <tr>\n",
       "      <th>max</th>\n",
       "      <td>400.000000</td>\n",
       "      <td>2.761700e+06</td>\n",
       "    </tr>\n",
       "  </tbody>\n",
       "</table>\n",
       "</div>"
      ],
      "text/plain": [
       "         QUANTITY     SUB TOTAL\n",
       "count   77.000000  7.800000e+01\n",
       "mean    15.714286  7.081282e+04\n",
       "std     56.999736  3.111201e+05\n",
       "min      1.000000  1.800000e+03\n",
       "25%      1.000000  1.125000e+04\n",
       "50%      3.000000  2.400000e+04\n",
       "75%      8.000000  4.362500e+04\n",
       "max    400.000000  2.761700e+06"
      ]
     },
     "execution_count": 11,
     "metadata": {},
     "output_type": "execute_result"
    }
   ],
   "source": [
    "df.describe()"
   ]
  },
  {
   "cell_type": "code",
   "execution_count": 66,
   "id": "d16a72ff",
   "metadata": {},
   "outputs": [
    {
     "data": {
      "text/plain": [
       "DATE          77\n",
       "MODEL         77\n",
       "QUANTITY      77\n",
       "UNIT PRICE    78\n",
       "SUB TOTAL     78\n",
       "Unnamed: 7     1\n",
       "dtype: int64"
      ]
     },
     "execution_count": 66,
     "metadata": {},
     "output_type": "execute_result"
    }
   ],
   "source": [
    "df.count()"
   ]
  },
  {
   "cell_type": "code",
   "execution_count": 67,
   "id": "f47c7f16",
   "metadata": {},
   "outputs": [
    {
     "data": {
      "text/plain": [
       "<pandas.core.groupby.generic.SeriesGroupBy object at 0x0000022F75489910>"
      ]
     },
     "execution_count": 67,
     "metadata": {},
     "output_type": "execute_result"
    }
   ],
   "source": [
    "df.groupby('MODEL')['MODEL']"
   ]
  },
  {
   "cell_type": "code",
   "execution_count": 68,
   "id": "8a18ddca",
   "metadata": {},
   "outputs": [
    {
     "data": {
      "text/plain": [
       "MODEL                    DATE     \n",
       "ALL IN ONE FUJISTU       2/1/2025     1.0\n",
       "ALL IN ONE FUJISTU i3    20/1/2025    1.0\n",
       "ALL IN ONE FUJISTU i5/2  20/1/2025    1.0\n",
       "ALL IN ONE HP            23/1/2025    3.0\n",
       "ALL IN ONE LENOVO i3/2   20/1/2025    1.0\n",
       "                                     ... \n",
       "TOSHIBA R63              2/1/2025     3.0\n",
       "TOSHIBA R73              4/1/2025     1.0\n",
       "TOSHIBA i3/8             24/1/2025    1.0\n",
       "TOSHIBA i5/3             24/1/2025    5.0\n",
       "TOSHIBA i5/5             24/1/2025    1.0\n",
       "Name: QUANTITY, Length: 76, dtype: float64"
      ]
     },
     "execution_count": 68,
     "metadata": {},
     "output_type": "execute_result"
    }
   ],
   "source": [
    "df.groupby(['MODEL', 'DATE'])['QUANTITY'].min()"
   ]
  },
  {
   "cell_type": "code",
   "execution_count": 70,
   "id": "d57db6af",
   "metadata": {},
   "outputs": [
    {
     "data": {
      "text/plain": [
       "MODEL\n",
       "ALL IN ONE FUJISTU         1.0\n",
       "ALL IN ONE FUJISTU i3      1.0\n",
       "ALL IN ONE FUJISTU i5/2    1.0\n",
       "ALL IN ONE HP              3.0\n",
       "ALL IN ONE LENOVO i3/2     1.0\n",
       "                          ... \n",
       "TOSHIBA R63                3.0\n",
       "TOSHIBA R73                1.0\n",
       "TOSHIBA i3/8               1.0\n",
       "TOSHIBA i5/3               5.0\n",
       "TOSHIBA i5/5               1.0\n",
       "Name: QUANTITY, Length: 61, dtype: float64"
      ]
     },
     "execution_count": 70,
     "metadata": {},
     "output_type": "execute_result"
    }
   ],
   "source": [
    "df.groupby('MODEL')['QUANTITY'].median()"
   ]
  },
  {
   "cell_type": "code",
   "execution_count": 75,
   "id": "ae46ee1f",
   "metadata": {},
   "outputs": [
    {
     "data": {
      "text/plain": [
       "MODEL                    DATE     \n",
       "ALL IN ONE FUJISTU       2/1/2025    NaN\n",
       "ALL IN ONE FUJISTU i3    20/1/2025   NaN\n",
       "ALL IN ONE FUJISTU i5/2  20/1/2025   NaN\n",
       "ALL IN ONE HP            23/1/2025   NaN\n",
       "ALL IN ONE LENOVO i3/2   20/1/2025   NaN\n",
       "                                      ..\n",
       "TOSHIBA R63              2/1/2025    NaN\n",
       "TOSHIBA R73              4/1/2025    NaN\n",
       "TOSHIBA i3/8             24/1/2025   NaN\n",
       "TOSHIBA i5/3             24/1/2025   NaN\n",
       "TOSHIBA i5/5             24/1/2025   NaN\n",
       "Name: QUANTITY, Length: 76, dtype: float64"
      ]
     },
     "execution_count": 75,
     "metadata": {},
     "output_type": "execute_result"
    }
   ],
   "source": [
    "df.groupby(['MODEL', 'DATE'])['QUANTITY'].var()"
   ]
  }
 ],
 "metadata": {
  "kernelspec": {
   "display_name": "Python 3",
   "language": "python",
   "name": "python3"
  },
  "language_info": {
   "codemirror_mode": {
    "name": "ipython",
    "version": 3
   },
   "file_extension": ".py",
   "mimetype": "text/x-python",
   "name": "python",
   "nbconvert_exporter": "python",
   "pygments_lexer": "ipython3",
   "version": "3.13.7"
  }
 },
 "nbformat": 4,
 "nbformat_minor": 5
}
